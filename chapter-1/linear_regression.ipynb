{
  "cells": [
    {
      "cell_type": "markdown",
      "metadata": {
        "jukit_cell_id": "f2zYnEOzAl"
      },
      "source": [
        "# Linear Regression\n",
        "This is basically trying to find a line of best fit in a multi-dimenensional data."
      ]
    },
    {
      "cell_type": "code",
      "metadata": {
        "jukit_cell_id": "YskWEeMKcA"
      },
      "source": [
        "import numpy as np\n",
        "import pandas as pd\n",
        "import plotly.graph_objects as go\n",
        "from plotly.subplots import make_subplots"
      ],
      "outputs": [],
      "execution_count": null
    },
    {
      "cell_type": "markdown",
      "metadata": {
        "jukit_cell_id": "WJdsVDiTKZ"
      },
      "source": [
        "## 1D-Case\n",
        "$e_i$ = $y_i - (w.x_i + b)$\n",
        "where $(w.x_i + b)$ is the predicted $y'_i$\n",
        "\n",
        "Then, the energy function is \n",
        "E(w, b) = $\\sum_{i=1} (e_i)^2$"
      ]
    },
    {
      "cell_type": "code",
      "metadata": {
        "jukit_cell_id": "w753NQfnjj"
      },
      "source": [
        "# 1D Case\n",
        "N = 10\n",
        "low = 0\n",
        "high = 5\n",
        "x = np.random.randint(low=low, high=high, size=N)\n",
        "y = np.random.randint(low=low, high=high, size=N)\n",
        "\n",
        "# Average over x\n",
        "x_hat: float = 0\n",
        "for x_i in x:\n",
        "    x_hat += x_i\n",
        "x_hat = x_hat / N\n",
        "\n",
        "# Average over y\n",
        "y_hat: float = 0\n",
        "for y_i in y:\n",
        "    y_hat += y_i\n",
        "y_hat = y_hat / N\n",
        "\n",
        "# Finding the weight (gradient)\n",
        "numerator: float = 0\n",
        "denominator: float = 0\n",
        "for i in range(N):\n",
        "    numerator = numerator + ((y[i] - y_hat) * (x[i] - x_hat))\n",
        "    denominator = denominator + ((x[i] - x_hat) ** 2)\n",
        "w: float = numerator / denominator\n",
        "\n",
        "# Finding the bias (y-intercept)\n",
        "b: float = y_hat - w * x_hat\n",
        "\n",
        "print(\"Points\")\n",
        "for x_i, y_i in zip(x, y):\n",
        "    print(f\"({x_i}, {y_i})\")\n",
        "\n",
        "print(f\"Weight: {w}\")\n",
        "print(f\"Bias: {b}\")"
      ],
      "outputs": [],
      "execution_count": null
    },
    {
      "cell_type": "code",
      "metadata": {
        "jukit_cell_id": "FGtuKmSZdK"
      },
      "source": [
        "x_best = list(range(low, high))\n",
        "y_best = [w * x_i + b for x_i in x_best]\n",
        "df = pd.DataFrame({\"x\": x, \"y\": y})\n",
        "\n",
        "fig = go.Figure()\n",
        "fig.add_trace(\n",
        "    go.Scatter(\n",
        "        x=x_best,\n",
        "        y=y_best,\n",
        "        mode=\"lines\",\n",
        "        name=f\"y={w:.3f}x+{b:.3f}\",\n",
        "        line=dict(color=\"red\"),\n",
        "    )\n",
        ")\n",
        "\n",
        "fig.add_trace(\n",
        "    go.Scatter(\n",
        "        x=x,\n",
        "        y=y,\n",
        "        mode=\"markers\",\n",
        "        name=\"Points\",\n",
        "        marker=dict(size=10, color=\"blue\"),\n",
        "    )\n",
        ")\n",
        "\n",
        "fig.update_layout(title=\"Linear Regression (1-Dimension)\")\n",
        "fig.show()"
      ],
      "outputs": [],
      "execution_count": null
    },
    {
      "cell_type": "markdown",
      "metadata": {
        "jukit_cell_id": "VMzPBVIIkw"
      },
      "source": [
        "Multi-dimensional input"
      ]
    },
    {
      "cell_type": "code",
      "metadata": {
        "jukit_cell_id": "T5ovjlz7SQ"
      },
      "source": [
        "input_dimension = 2\n",
        "points_num = 10\n",
        "low = 0\n",
        "high = 5\n",
        "x = np.random.randint(low=low, high=high, size=(points_num, input_dimension))\n",
        "# y = np.random.randint(low=low, high=high, size=(points_num, 1))\n",
        "y = np.random.randint(low=low, high=high, size=points_num)\n",
        "print(f\"x: {x}\")\n",
        "print(f\"y: {y}\")\n",
        "\n",
        "new_column = np.ones((points_num, 1), dtype=int)\n",
        "x_tilde = np.hstack([x, new_column])\n",
        "# y_tilde = np.hstack([y, new_column])\n",
        "print(f\"x_tilde: {x_tilde}\")\n",
        "# print(f\"y_tilde: {y_tilde}\")\n",
        "\n",
        "x_transpose = np.transpose(x_tilde)\n",
        "x_pseudoinverse = np.linalg.inv((x_transpose @ x_tilde)) @ x_transpose\n",
        "w_tilde = x_pseudoinverse @ y\n",
        "print(f\"w_tilde: {w_tilde}\")\n",
        "\n",
        "w_0 = w_tilde[0]\n",
        "w_1 = w_tilde[1]\n",
        "b = w_tilde[-1]"
      ],
      "outputs": [],
      "execution_count": null
    },
    {
      "cell_type": "code",
      "metadata": {
        "jukit_cell_id": "3vKRjQy6EZ"
      },
      "source": [
        "x1_coord = list(range(low, high))\n",
        "x2_coord = list(range(low, high))\n",
        "x1_best, x2_best = np.meshgrid(x1_coord, x2_coord)\n",
        "y_best = w_0 * x1_best + w_1 * x2_best + b\n",
        "\n",
        "fig = go.Figure()\n",
        "fig.add_trace(go.Scatter3d(x=x[:, 0], y=x[:, 1], z=y, mode=\"markers\", name=\"points\"))\n",
        "fig.add_trace(\n",
        "    go.Surface(\n",
        "        x=x1_best,\n",
        "        y=x2_best,\n",
        "        z=y_best,\n",
        "        name=f\"y={w_0:.2f}+{w_1:.2f}x1+{b:.2f}x2\",\n",
        "        opacity=0.6,\n",
        "    )\n",
        ")\n",
        "fig.update_layout(\n",
        "    scene=dict(xaxis_title=\"x1\", yaxis_title=\"x2\", zaxis_title=\"y\"),\n",
        "    title=\"3D points + fitted plane\",\n",
        ")\n",
        "fig.show()"
      ],
      "outputs": [],
      "execution_count": null
    },
    {
      "cell_type": "markdown",
      "metadata": {
        "jukit_cell_id": "F3U5gizHkd"
      },
      "source": [
        "Multi-dimensional input & output"
      ]
    },
    {
      "cell_type": "code",
      "metadata": {
        "jukit_cell_id": "8bVKZf4X57"
      },
      "source": [
        "input_dimension = 5\n",
        "output_dimension = 3\n",
        "points_num = 10\n",
        "low = 0\n",
        "high = 5\n",
        "x = np.random.uniform(low=low, high=high, size=(points_num, input_dimension))\n",
        "y = np.random.uniform(low=low, high=high, size=(points_num, output_dimension))\n",
        "print(f\"x: {x}\")\n",
        "print(f\"y: {y}\")\n",
        "\n",
        "new_column = np.ones((points_num, 1), dtype=int)\n",
        "x_tilde = np.hstack([x, new_column])\n",
        "print(f\"x_tilde: {x_tilde}\")\n",
        "\n",
        "x_transpose = np.transpose(x_tilde)\n",
        "x_pseudoinverse = np.linalg.inv((x_transpose @ x_tilde)) @ x_transpose\n",
        "w_tilde = x_pseudoinverse @ y\n",
        "print(f\"w_tilde: {w_tilde}\")\n",
        "print(f\"Size (input_dimension + 1, output_dimension): {w_tilde.shape}\")"
      ],
      "outputs": [
        {
          "output_type": "stream",
          "name": "stdout",
          "text": "x: [[2.83829043 3.02049789 2.55286417 1.69901205 0.45690156]\n [3.88251296 2.89315455 2.36419662 3.33236424 2.68095383]\n [0.38445027 4.73931318 3.12323169 1.56615063 0.58905862]\n [0.96398737 4.53949298 3.89045842 4.98660771 2.36043569]\n [1.44371073 0.61550565 1.36393276 1.58544162 1.34433204]\n [0.35851998 2.67522764 2.45182309 3.35278666 2.35317183]\n [2.82959509 0.25763946 0.27650598 3.83631321 4.34767831]\n [3.01863005 2.659213   3.75246186 4.2908081  3.76577558]\n [4.17314842 2.41814331 4.61957203 1.07461431 4.6105052 ]\n [0.68949074 0.35506947 3.96096926 3.28733046 0.07728608]]\ny: [[4.55603484 2.61339739 4.48088379]\n [4.25164643 3.33262217 4.42517671]\n [0.25201342 4.01566633 3.0275446 ]\n [1.71451038 2.30041889 1.66351181]\n [0.91529699 2.92993454 2.74110487]\n [3.012874   1.01874589 4.32591568]\n [4.5281312  3.85132119 1.79421562]\n [0.37257668 3.97017649 3.51760117]\n [3.36719422 0.8085631  2.77692595]\n [4.86739714 3.06198982 3.25494881]]\nx_tilde: [[2.83829043 3.02049789 2.55286417 1.69901205 0.45690156 1.        ]\n [3.88251296 2.89315455 2.36419662 3.33236424 2.68095383 1.        ]\n [0.38445027 4.73931318 3.12323169 1.56615063 0.58905862 1.        ]\n [0.96398737 4.53949298 3.89045842 4.98660771 2.36043569 1.        ]\n [1.44371073 0.61550565 1.36393276 1.58544162 1.34433204 1.        ]\n [0.35851998 2.67522764 2.45182309 3.35278666 2.35317183 1.        ]\n [2.82959509 0.25763946 0.27650598 3.83631321 4.34767831 1.        ]\n [3.01863005 2.659213   3.75246186 4.2908081  3.76577558 1.        ]\n [4.17314842 2.41814331 4.61957203 1.07461431 4.6105052  1.        ]\n [0.68949074 0.35506947 3.96096926 3.28733046 0.07728608 1.        ]]\nw_tilde: [[ 7.45575183e-01  3.07180246e-01  4.00239566e-01]\n [-4.88646448e-01  5.64854459e-02  9.14099341e-02]\n [ 2.77011257e-03 -3.53094387e-01 -2.18358226e-02]\n [ 3.19968447e-01  3.56392603e-01  2.57062632e-04]\n [-5.31035708e-01 -3.83599211e-01 -4.12141607e-01]\n [ 2.69369063e+00  2.85518126e+00  3.14806781e+00]]\nSize (input_dimension + 1, output_dimension): (6, 3)\n"
        }
      ],
      "execution_count": 1
    },
    {
      "cell_type": "code",
      "metadata": {
        "jukit_cell_id": "CtlNYI16eB"
      },
      "source": [
        "fig = make_subplots(\n",
        "    rows=output_dimension,\n",
        "    cols=input_dimension,\n",
        "    subplot_titles=[\n",
        "        f\"Input: {i % input_dimension}, Output: {i // input_dimension}\"\n",
        "        for i in range(input_dimension * output_dimension)\n",
        "    ],\n",
        ")\n",
        "fig.update_xaxes(showticklabels=False).update_yaxes(showticklabels=False)\n",
        "fig.update_layout(\n",
        "    height=600, width=1200, title=\"Linear Regression of Multi-dimensional data\"\n",
        ")\n",
        "\n",
        "for output_v in range(output_dimension):\n",
        "    w_vec = w_tilde[:-1, output_v]\n",
        "    b0 = w_tilde[-1, output_v]\n",
        "    x_means = x.mean(axis=0)\n",
        "\n",
        "    for input_v in range(input_dimension):\n",
        "        x_coord = np.arange(low, high)\n",
        "        w = w_tilde[input_v, output_v]\n",
        "        # b = w_tilde[-1, output_v]\n",
        "        b = b0 + (w_vec @ x_means) - w_vec[input_v] * x_means[input_v]\n",
        "        y_best = w * x_coord + b\n",
        "        fig.add_trace(\n",
        "            go.Scatter(\n",
        "                x=x_coord,\n",
        "                y=y_best,\n",
        "                mode=\"lines\",\n",
        "                name=f\"y={w:.3f}x+{b:.3f}\",\n",
        "                line=dict(color=\"red\"),\n",
        "            ),\n",
        "            row=output_v + 1,\n",
        "            col=input_v + 1,\n",
        "        )\n",
        "        fig.add_trace(\n",
        "            go.Scatter(\n",
        "                x=x[:, input_v],\n",
        "                y=y[:, output_v],\n",
        "                mode=\"markers\",\n",
        "                name=\"Points\",\n",
        "                marker=dict(size=10, color=\"blue\"),\n",
        "            ),\n",
        "            row=output_v + 1,\n",
        "            col=input_v + 1,\n",
        "        )\n",
        "fig.show()"
      ],
      "outputs": [],
      "execution_count": null
    },
    {
      "cell_type": "code",
      "metadata": {
        "jukit_cell_id": "zRSljPcpa9"
      },
      "source": [],
      "outputs": [],
      "execution_count": null
    }
  ],
  "metadata": {
    "anaconda-cloud": {},
    "kernelspec": {
      "display_name": "python",
      "language": "python",
      "name": "python3"
    }
  },
  "nbformat": 4,
  "nbformat_minor": 4
}