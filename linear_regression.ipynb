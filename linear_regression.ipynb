{
  "cells": [
    {
      "cell_type": "markdown",
      "metadata": {
        "jukit_cell_id": "f2zYnEOzAl"
      },
      "source": [
        "# Linear Regression\n",
        "This is basically trying to find a line of best fit in a multi-dimenensional data."
      ]
    },
    {
      "cell_type": "code",
      "metadata": {
        "jukit_cell_id": "YskWEeMKcA"
      },
      "source": [
        "import numpy as np\n",
        "import pandas as pd\n",
        "import plotly.graph_objects as go"
      ],
      "outputs": [],
      "execution_count": null
    },
    {
      "cell_type": "markdown",
      "metadata": {
        "jukit_cell_id": "WJdsVDiTKZ"
      },
      "source": [
        "## 1D-Case\n",
        "$e_i$ = $y_i - (w.x_i + b)$\n",
        "where (w.x_i + b) is the predicted y'_i\n",
        "\n",
        "Then, the energy function is \n",
        "E(w, b) = summation of (e_i)^2"
      ]
    },
    {
      "cell_type": "code",
      "metadata": {
        "jukit_cell_id": "w753NQfnjj"
      },
      "source": [
        "# 1D Case\n",
        "N = 10\n",
        "low = 0\n",
        "high = 5\n",
        "x = np.random.randint(low=low, high=high, size=N)\n",
        "y = np.random.randint(low=low, high=high, size=N)\n",
        "\n",
        "# Average over x\n",
        "x_hat: float = 0\n",
        "for x_i in x:\n",
        "    x_hat += x_i\n",
        "x_hat = x_hat / N\n",
        "\n",
        "# Average over y\n",
        "y_hat: float = 0\n",
        "for y_i in y:\n",
        "    y_hat += y_i\n",
        "y_hat = y_hat / N\n",
        "\n",
        "# Finding the weight (gradient)\n",
        "numerator: float = 0\n",
        "denominator: float = 0\n",
        "for i in range(N):\n",
        "    numerator = numerator + ((y[i] - y_hat) * (x[i] - x_hat))\n",
        "    denominator = denominator + ((x[i] - x_hat) ** 2)\n",
        "w: float = numerator / denominator\n",
        "\n",
        "# Finding the bias (y-intercept)\n",
        "b: float = y_hat - w * x_hat\n",
        "\n",
        "print(\"Points\")\n",
        "for x_i, y_i in zip(x, y):\n",
        "    print(f\"({x_i}, {y_i})\")\n",
        "\n",
        "print(f\"Weight: {w}\")\n",
        "print(f\"Bias: {b}\")"
      ],
      "outputs": [
        {
          "output_type": "stream",
          "name": "stdout",
          "text": "Points\n(3, 2)\n(1, 4)\n(3, 2)\n(1, 1)\n(1, 4)\n(0, 4)\n(1, 4)\n(0, 3)\n(3, 2)\n(4, 1)\nWeight: -0.6022099447513812\nBias: 3.723756906077348\n"
        }
      ],
      "execution_count": 1
    },
    {
      "cell_type": "code",
      "metadata": {
        "jukit_cell_id": "FGtuKmSZdK"
      },
      "source": [
        "x_best = list(range(low, high))\n",
        "y_best = [w * x_i + b for x_i in x_best]\n",
        "df = pd.DataFrame({\"x\": x, \"y\": y})\n",
        "\n",
        "fig = go.Figure()\n",
        "fig.add_trace(\n",
        "    go.Scatter(\n",
        "        x=x_best,\n",
        "        y=y_best,\n",
        "        mode=\"lines\",\n",
        "        name=f\"Best fit: y={w:.3f}x+{b:.3f}\",\n",
        "        line=dict(color=\"red\"),\n",
        "    )\n",
        ")\n",
        "\n",
        "fig.add_trace(\n",
        "    go.Scatter(\n",
        "        x=x,\n",
        "        y=y,\n",
        "        mode=\"markers\",\n",
        "        name=\"Points\",\n",
        "        marker=dict(size=10, color=\"blue\"),\n",
        "    )\n",
        ")\n",
        "\n",
        "fig.update_layout(title=\"Linear Regression (1-Dimension)\")\n",
        "fig.show()"
      ],
      "outputs": [],
      "execution_count": null
    },
    {
      "cell_type": "markdown",
      "metadata": {
        "jukit_cell_id": "VMzPBVIIkw"
      },
      "source": [
        "Multi-dimensional input"
      ]
    },
    {
      "cell_type": "code",
      "metadata": {
        "jukit_cell_id": "zRSljPcpa9"
      },
      "source": [],
      "outputs": [],
      "execution_count": null
    }
  ],
  "metadata": {
    "anaconda-cloud": {},
    "kernelspec": {
      "display_name": "python",
      "language": "python",
      "name": "python3"
    }
  },
  "nbformat": 4,
  "nbformat_minor": 4
}